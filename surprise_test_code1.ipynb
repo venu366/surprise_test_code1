{
 "cells": [
  {
   "cell_type": "code",
   "execution_count": null,
   "id": "a21b7508",
   "metadata": {},
   "outputs": [],
   "source": [
    "#1Q\n",
    "\n",
    "def pushZerosToEnd(arr, n):\n",
    "    count = 0 # Count of non-zero elements\n",
    "     \n",
    "    # Traverse the array. If element\n",
    "    # encountered is non-zero, then\n",
    "    # replace the element at index\n",
    "    # 'count' with this element\n",
    "    for i in range(n):\n",
    "        if arr[i] != 0:\n",
    "             \n",
    "            # here count is incremented\n",
    "            arr[count] = arr[i]\n",
    "            count+=1\n",
    "     \n",
    "    # Now all non-zero elements have been\n",
    "    # shifted to front and 'count' is set\n",
    "    # as index of first 0. Make all\n",
    "    # elements 0 from count to end.\n",
    "    while count < n:\n",
    "        arr[count] = 0\n",
    "        count += 1"
   ]
  }
 ],
 "metadata": {
  "kernelspec": {
   "display_name": "Python 3 (ipykernel)",
   "language": "python",
   "name": "python3"
  },
  "language_info": {
   "codemirror_mode": {
    "name": "ipython",
    "version": 3
   },
   "file_extension": ".py",
   "mimetype": "text/x-python",
   "name": "python",
   "nbconvert_exporter": "python",
   "pygments_lexer": "ipython3",
   "version": "3.9.12"
  }
 },
 "nbformat": 4,
 "nbformat_minor": 5
}
